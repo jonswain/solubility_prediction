{
 "cells": [
  {
   "attachments": {},
   "cell_type": "markdown",
   "metadata": {},
   "source": [
    "# In this notebook\n",
    "\n",
    "[Trained AttentiveFP model](#Model-Training)\n",
    "* Trained an AttentiveFP model, R2: 0.753 (+/-0.01907) on test set (mean +/- std of cv)."
   ]
  },
  {
   "cell_type": "code",
   "execution_count": 6,
   "metadata": {},
   "outputs": [
    {
     "name": "stdout",
     "output_type": "stream",
     "text": [
      "The autoreload extension is already loaded. To reload it, use:\n",
      "  %reload_ext autoreload\n"
     ]
    }
   ],
   "source": [
    "%load_ext autoreload\n",
    "%autoreload 2\n",
    "\n",
    "import warnings\n",
    "warnings.filterwarnings('ignore')\n",
    "\n",
    "from solubility_model.models.attentivefp_train import regression_model, make_predictions"
   ]
  },
  {
   "attachments": {},
   "cell_type": "markdown",
   "metadata": {},
   "source": [
    "## Model Training\n",
    "\n",
    "[AttentiveFP](https://pubs.acs.org/doi/10.1021/acs.jmedchem.9b00959) (implemented using [DeepChem](https://deepchem.io)) was used to train a model for solubility prediction. This is another neural network that uses a graph attention mechanism to learn from the data sets. Performance on test set (with stdev of 5-fold cross validation): \n",
    "* R2: 0.753 (+/-0.01907)\n",
    "* RMSE: 0.708 (+/-0.02752)\n",
    "* MSE: 0.502 (+/-0.03885)\n",
    "* MAE: 0.560 (+/-0.02179)"
   ]
  },
  {
   "cell_type": "code",
   "execution_count": 9,
   "metadata": {},
   "outputs": [
    {
     "name": "stdout",
     "output_type": "stream",
     "text": [
      "Using device: mps\n"
     ]
    }
   ],
   "source": [
    "import torch\n",
    "device = \"mps\" if torch.backends.mps.is_available() else \"cpu\"\n",
    "print(f\"Using device: {device}\")"
   ]
  },
  {
   "cell_type": "code",
   "execution_count": 7,
   "metadata": {},
   "outputs": [
    {
     "name": "stdout",
     "output_type": "stream",
     "text": [
      "Featurizing data\n",
      "Fitting fold: 0\n",
      "Setting the default backend to \"pytorch\". You can change it in the ~/.dgl/config.json file or export the DGLBACKEND environment variable.  Valid options are: pytorch, mxnet, tensorflow (all lowercase)\n"
     ]
    },
    {
     "name": "stderr",
     "output_type": "stream",
     "text": [
      "DGL backend not selected or invalid.  Assuming PyTorch for now.\n"
     ]
    },
    {
     "name": "stdout",
     "output_type": "stream",
     "text": [
      "Epoch 0: Training loss = 4.706, validation RMSE = 1.809,\n",
      "Epoch 10: Training loss = 0.407, validation RMSE = 1.000,\n",
      "Epoch 20: Training loss = 0.287, validation RMSE = 0.958,\n",
      "Epoch 30: Training loss = 0.309, validation RMSE = 0.825,\n",
      "Epoch 40: Training loss = 0.229, validation RMSE = 0.799,\n",
      "Epoch 50: Training loss = 0.191, validation RMSE = 0.825,\n",
      "Epoch 60: Training loss = 0.143, validation RMSE = 0.909,\n",
      "Epoch 70: Training loss = 0.163, validation RMSE = 0.902,\n",
      "Early stopping at epoch 77. Best epoch 47, validation loss: 0.7610812341204286\n",
      "Fold 0: {'R2': 0.7830194179891619, 'RMSE': 0.6649137416900966, 'MSE': 0.4421102838883246, 'MAE': 0.5247893167002291}\n",
      "Fitting fold: 1\n",
      "Epoch 0: Training loss = 4.806, validation RMSE = 1.511,\n",
      "Epoch 10: Training loss = 0.515, validation RMSE = 0.859,\n",
      "Epoch 20: Training loss = 0.351, validation RMSE = 0.825,\n",
      "Epoch 30: Training loss = 0.335, validation RMSE = 0.794,\n",
      "Epoch 40: Training loss = 0.297, validation RMSE = 0.732,\n",
      "Epoch 50: Training loss = 0.197, validation RMSE = 0.650,\n",
      "Epoch 60: Training loss = 0.164, validation RMSE = 0.627,\n",
      "Epoch 70: Training loss = 0.136, validation RMSE = 0.616,\n",
      "Epoch 80: Training loss = 0.108, validation RMSE = 0.722,\n",
      "Epoch 90: Training loss = 0.088, validation RMSE = 0.664,\n",
      "Epoch 100: Training loss = 0.074, validation RMSE = 0.670,\n",
      "Epoch 110: Training loss = 0.067, validation RMSE = 0.673,\n",
      "Early stopping at epoch 111. Best epoch 81, validation loss: 0.6096638019460822\n",
      "Fold 1: {'R2': 0.7494307269930586, 'RMSE': 0.7145272236067592, 'MSE': 0.5105491532751838, 'MAE': 0.5800224829580211}\n",
      "Fitting fold: 2\n",
      "Epoch 0: Training loss = 4.375, validation RMSE = 1.458,\n",
      "Epoch 10: Training loss = 0.438, validation RMSE = 0.946,\n",
      "Epoch 20: Training loss = 0.321, validation RMSE = 0.884,\n",
      "Epoch 30: Training loss = 0.248, validation RMSE = 0.905,\n",
      "Epoch 40: Training loss = 0.225, validation RMSE = 0.803,\n",
      "Epoch 50: Training loss = 0.234, validation RMSE = 0.840,\n",
      "Epoch 60: Training loss = 0.142, validation RMSE = 0.817,\n",
      "Epoch 70: Training loss = 0.125, validation RMSE = 0.782,\n",
      "Epoch 80: Training loss = 0.098, validation RMSE = 0.825,\n",
      "Early stopping at epoch 86. Best epoch 56, validation loss: 0.75170070799087\n",
      "Fold 2: {'R2': 0.7629817106892001, 'RMSE': 0.6949375891603706, 'MSE': 0.48293825282802805, 'MAE': 0.5450950910154777}\n",
      "Fitting fold: 3\n",
      "Epoch 0: Training loss = 4.421, validation RMSE = 1.353,\n",
      "Epoch 10: Training loss = 0.474, validation RMSE = 0.789,\n",
      "Epoch 20: Training loss = 0.453, validation RMSE = 0.652,\n",
      "Epoch 30: Training loss = 0.331, validation RMSE = 0.649,\n",
      "Epoch 40: Training loss = 0.226, validation RMSE = 0.651,\n",
      "Epoch 50: Training loss = 0.202, validation RMSE = 0.715,\n",
      "Epoch 60: Training loss = 0.150, validation RMSE = 0.731,\n",
      "Early stopping at epoch 65. Best epoch 35, validation loss: 0.6224595082840273\n",
      "Fold 3: {'R2': 0.7254390054476133, 'RMSE': 0.7479529739610051, 'MSE': 0.559433651257112, 'MAE': 0.5814535141806059}\n",
      "Fitting fold: 4\n",
      "Epoch 0: Training loss = 5.053, validation RMSE = 1.432,\n",
      "Epoch 10: Training loss = 0.553, validation RMSE = 0.963,\n",
      "Epoch 20: Training loss = 0.353, validation RMSE = 0.819,\n",
      "Epoch 30: Training loss = 0.320, validation RMSE = 0.800,\n",
      "Epoch 40: Training loss = 0.225, validation RMSE = 0.890,\n",
      "Early stopping at epoch 41. Best epoch 11, validation loss: 0.766342986864906\n",
      "Fold 4: {'R2': 0.7462327776436499, 'RMSE': 0.7190724282470652, 'MSE': 0.5170651570651307, 'MAE': 0.5671044208701652}\n",
      "Average model performance:\n",
      "R2: 0.753+/-0.01907\n",
      "RMSE: 0.708+/-0.02752\n",
      "MSE: 0.502+/-0.03885\n",
      "MAE: 0.560+/-0.02179\n"
     ]
    }
   ],
   "source": [
    "regression_model()"
   ]
  },
  {
   "cell_type": "code",
   "execution_count": null,
   "metadata": {},
   "outputs": [],
   "source": []
  }
 ],
 "metadata": {
  "kernelspec": {
   "display_name": "solubility_model",
   "language": "python",
   "name": "python3"
  },
  "language_info": {
   "codemirror_mode": {
    "name": "ipython",
    "version": 3
   },
   "file_extension": ".py",
   "mimetype": "text/x-python",
   "name": "python",
   "nbconvert_exporter": "python",
   "pygments_lexer": "ipython3",
   "version": "3.10.12"
  },
  "orig_nbformat": 4
 },
 "nbformat": 4,
 "nbformat_minor": 2
}
